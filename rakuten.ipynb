{
 "cells": [
  {
   "cell_type": "markdown",
   "metadata": {},
   "source": [
    "## Rapidly Prototyping a Machine Learning Pipeline\n",
    "\n",
    "The purpose of this workshop is to show how easy it is to take an idea and turn it into a successful Machine Learning application."
   ]
  },
  {
   "cell_type": "markdown",
   "metadata": {},
   "source": [
    "### Part 1: The idea/loading data\n",
    "In line with Tuesday's panel around \"autocoders,\" we'll demonstrate how to use text descriptions to predict codes. Along the way, we'll show some good practice when practicing machine learning. While this notebook will focus on coding products using descriptions, this approach should work for many scenarios where one has a dataset with both text descriptions and their associated codes.\n",
    "\n",
    "#### The data\n",
    "This data comes from \n",
    "\n",
    "Specifically, this is the \"concordance file\" for the Harmonized System's import/export codes. This gives us the code and a description of what products fit into that code: perfect for the sort of automatic coding we want to do. We've included the file here (in the `data/` subfolder) for ease-of-use.\n",
    "\n",
    "The import and export codes are slightly different at the 10-digit level; however, the codes are heirarchical and at the 6-digit level they are the same (as defined by an international standards group). We'll model at an even less granular level than that - the 4-digit level - based on the amount of data that we have.\n",
    "\n",
    "First, let's take a look in a text editor. Jupyter has one that's enough for this.\n",
    "\n",
    "From here, taking a look at the `imp-stru.txt` file will give us the \"schema.\"\n",
    "\n",
    "Now, we'll use a combination of python and pandas to ingest and clean this data."
   ]
  },
  {
   "cell_type": "code",
   "execution_count": 10,
   "metadata": {},
   "outputs": [],
   "source": [
    "import pandas as pd\n",
    "pd.options.display.max_colwidth = 0\n",
    "\n",
    "import matplotlib\n",
    "%matplotlib inline\n",
    "\n",
    "# this is a trick to parallelize our computations\n",
    "import multiprocessing\n",
    "NCPUS = 8 if multiprocessing.cpu_count() > 8 else (multiprocessing.cpu_count() - 1)"
   ]
  },
  {
   "cell_type": "code",
   "execution_count": 2,
   "metadata": {},
   "outputs": [
    {
     "name": "stderr",
     "output_type": "stream",
     "text": [
      "[nltk_data] Error loading stopwords: <urlopen error [Errno -3]\n",
      "[nltk_data]     Temporary failure in name resolution>\n"
     ]
    },
    {
     "data": {
      "text/plain": [
       "False"
      ]
     },
     "execution_count": 2,
     "metadata": {},
     "output_type": "execute_result"
    }
   ],
   "source": [
    "!pip install nltk\n",
    "import nltk\n",
    "nltk.download('stopwords')"
   ]
  },
  {
   "cell_type": "markdown",
   "metadata": {},
   "source": [
    "Now that we've got two lists (`imp_lines` and `exp_lines`) that hold all of the codes and descriptions, let's put them in a data frame and start processing/looking around."
   ]
  },
  {
   "cell_type": "code",
   "execution_count": 11,
   "metadata": {},
   "outputs": [
    {
     "data": {
      "text/html": [
       "<div>\n",
       "<style scoped>\n",
       "    .dataframe tbody tr th:only-of-type {\n",
       "        vertical-align: middle;\n",
       "    }\n",
       "\n",
       "    .dataframe tbody tr th {\n",
       "        vertical-align: top;\n",
       "    }\n",
       "\n",
       "    .dataframe thead th {\n",
       "        text-align: right;\n",
       "    }\n",
       "</style>\n",
       "<table border=\"1\" class=\"dataframe\">\n",
       "  <thead>\n",
       "    <tr style=\"text-align: right;\">\n",
       "      <th></th>\n",
       "      <th>0</th>\n",
       "      <th>1</th>\n",
       "    </tr>\n",
       "  </thead>\n",
       "  <tbody>\n",
       "    <tr>\n",
       "      <th>0</th>\n",
       "      <td>Replacement Viewsonic VG710 LCD Monitor 48Watt AC Adapter 12V 4A</td>\n",
       "      <td>3292&gt;114&gt;1231</td>\n",
       "    </tr>\n",
       "    <tr>\n",
       "      <th>1</th>\n",
       "      <td>HP COMPAQ Pavilion DV6-1410EZ 4400mAh 48Wh 6 Cell Li-ion 10.8V Black Compatible Battery</td>\n",
       "      <td>3292&gt;1370&gt;4767&gt;3975&gt;1420</td>\n",
       "    </tr>\n",
       "  </tbody>\n",
       "</table>\n",
       "</div>"
      ],
      "text/plain": [
       "                                                                                         0  \\\n",
       "0  Replacement Viewsonic VG710 LCD Monitor 48Watt AC Adapter 12V 4A                          \n",
       "1  HP COMPAQ Pavilion DV6-1410EZ 4400mAh 48Wh 6 Cell Li-ion 10.8V Black Compatible Battery   \n",
       "\n",
       "                          1  \n",
       "0  3292>114>1231             \n",
       "1  3292>1370>4767>3975>1420  "
      ]
     },
     "execution_count": 11,
     "metadata": {},
     "output_type": "execute_result"
    }
   ],
   "source": [
    "# as you can see in the output, pandas is smart enough to take a list of tuples\n",
    "# and turn it into a table in a \"sensible\" way. We do need to specify column names though.\n",
    "df = pd.read_csv(\"data/rdc-catalog-train.tsv\", sep='\\t', header=None)\n",
    "df.head(2)"
   ]
  },
  {
   "cell_type": "code",
   "execution_count": 12,
   "metadata": {},
   "outputs": [
    {
     "name": "stdout",
     "output_type": "stream",
     "text": [
      "df has 800000 rows\n",
      "df has 3008 unique product codes\n"
     ]
    },
    {
     "data": {
      "text/html": [
       "<div>\n",
       "<style scoped>\n",
       "    .dataframe tbody tr th:only-of-type {\n",
       "        vertical-align: middle;\n",
       "    }\n",
       "\n",
       "    .dataframe tbody tr th {\n",
       "        vertical-align: top;\n",
       "    }\n",
       "\n",
       "    .dataframe thead th {\n",
       "        text-align: right;\n",
       "    }\n",
       "</style>\n",
       "<table border=\"1\" class=\"dataframe\">\n",
       "  <thead>\n",
       "    <tr style=\"text-align: right;\">\n",
       "      <th></th>\n",
       "      <th>desc</th>\n",
       "      <th>code</th>\n",
       "    </tr>\n",
       "  </thead>\n",
       "  <tbody>\n",
       "    <tr>\n",
       "      <th>0</th>\n",
       "      <td>Replacement Viewsonic VG710 LCD Monitor 48Watt AC Adapter 12V 4A</td>\n",
       "      <td>3292&gt;114&gt;1231</td>\n",
       "    </tr>\n",
       "    <tr>\n",
       "      <th>1</th>\n",
       "      <td>HP COMPAQ Pavilion DV6-1410EZ 4400mAh 48Wh 6 Cell Li-ion 10.8V Black Compatible Battery</td>\n",
       "      <td>3292&gt;1370&gt;4767&gt;3975&gt;1420</td>\n",
       "    </tr>\n",
       "    <tr>\n",
       "      <th>2</th>\n",
       "      <td>Bonjour</td>\n",
       "      <td>2296&gt;3597&gt;2989</td>\n",
       "    </tr>\n",
       "    <tr>\n",
       "      <th>3</th>\n",
       "      <td>Two Pack 6V 12Ah  Eaton POWERRITE PRO II 2400 6V 12Ah UPS Replacement Battery - SPS BRAND</td>\n",
       "      <td>3292&gt;114&gt;1231</td>\n",
       "    </tr>\n",
       "    <tr>\n",
       "      <th>4</th>\n",
       "      <td>Generations Small Side Table White</td>\n",
       "      <td>4015&gt;3636&gt;1319&gt;1409&gt;3606</td>\n",
       "    </tr>\n",
       "  </tbody>\n",
       "</table>\n",
       "</div>"
      ],
      "text/plain": [
       "                                                                                        desc  \\\n",
       "0  Replacement Viewsonic VG710 LCD Monitor 48Watt AC Adapter 12V 4A                            \n",
       "1  HP COMPAQ Pavilion DV6-1410EZ 4400mAh 48Wh 6 Cell Li-ion 10.8V Black Compatible Battery     \n",
       "2  Bonjour                                                                                     \n",
       "3  Two Pack 6V 12Ah  Eaton POWERRITE PRO II 2400 6V 12Ah UPS Replacement Battery - SPS BRAND   \n",
       "4  Generations Small Side Table White                                                          \n",
       "\n",
       "                       code  \n",
       "0  3292>114>1231             \n",
       "1  3292>1370>4767>3975>1420  \n",
       "2  2296>3597>2989            \n",
       "3  3292>114>1231             \n",
       "4  4015>3636>1319>1409>3606  "
      ]
     },
     "execution_count": 12,
     "metadata": {},
     "output_type": "execute_result"
    }
   ],
   "source": [
    "df = pd.read_csv('data/rdc-catalog-train.tsv', header=None, sep='\\t', names=['desc', 'code'])\n",
    "print(\"df has\", len(df), \"rows\")\n",
    "print(\"df has\", df['code'].nunique(), 'unique product codes')\n",
    "df.head()"
   ]
  },
  {
   "cell_type": "markdown",
   "metadata": {},
   "source": [
    "Great. We have something like 28,000 rows. As we can immediately see, there is some overlap between the 10-digit import and export codes, hence the only ~22,000 unique 10-digit codes. It is likely that duplicate codes have the same description in both files... and from the perspective of the model, 2 copies of the same description/code is just as good as 1, so we'll only want to retain one copy of those. Additionally, we need to standardize and process this text, which will probably leave us with more of duplicate text strings as well. Let's start processing and find out."
   ]
  },
  {
   "cell_type": "markdown",
   "metadata": {},
   "source": [
    "#### Part 2: Cleaning / processing the data\n",
    "\n",
    "There are two main libraries for cleaning and processing text data in Python:\n",
    "- `spaCy`\n",
    "- `nltk`\n",
    "In this case, we'll use nltk, but spaCy is equally as good.\n",
    "\n",
    "Additionally, depending on the type of text that you have, there are many different ways to process and \"extract features\" (i.e. create variables for modelling) from that text. For example, if you're working with phrases/sentences, spaCy has good tools for determining which part-of-speech each word in a sentence maps to.\n",
    "\n",
    "In our case, we have very simple product descriptions (perhaps closer to \"tags\" than sentences), so less processing is required. We'll start out by using regular expressions. This is a good tutorial to learn more about those: https://www.datacamp.com/community/tutorials/python-regular-expression-tutorial"
   ]
  },
  {
   "cell_type": "code",
   "execution_count": 13,
   "metadata": {},
   "outputs": [
    {
     "data": {
      "text/html": [
       "<div>\n",
       "<style scoped>\n",
       "    .dataframe tbody tr th:only-of-type {\n",
       "        vertical-align: middle;\n",
       "    }\n",
       "\n",
       "    .dataframe tbody tr th {\n",
       "        vertical-align: top;\n",
       "    }\n",
       "\n",
       "    .dataframe thead th {\n",
       "        text-align: right;\n",
       "    }\n",
       "</style>\n",
       "<table border=\"1\" class=\"dataframe\">\n",
       "  <thead>\n",
       "    <tr style=\"text-align: right;\">\n",
       "      <th></th>\n",
       "      <th>desc</th>\n",
       "      <th>code</th>\n",
       "      <th>desc_stripped</th>\n",
       "    </tr>\n",
       "  </thead>\n",
       "  <tbody>\n",
       "    <tr>\n",
       "      <th>441385</th>\n",
       "      <td>Unique Bargains Ladies Girls Hairdressing Stretchy Hair Bands Ropes Ties 50 Pcs Black</td>\n",
       "      <td>3625&gt;3641&gt;1599&gt;2026</td>\n",
       "      <td>Unique Bargains Ladies Girls Hairdressing Stretchy Hair Bands Ropes Ties 50 Pcs Black</td>\n",
       "    </tr>\n",
       "    <tr>\n",
       "      <th>516513</th>\n",
       "      <td>Vince Camuto Kamaye Womens Suede Platforms &amp; Wedges</td>\n",
       "      <td>1608&gt;1206&gt;1632&gt;4904</td>\n",
       "      <td>Vince Camuto Kamaye Womens Suede Platforms &amp; Wedges</td>\n",
       "    </tr>\n",
       "    <tr>\n",
       "      <th>552436</th>\n",
       "      <td>MightySkins Protective Vinyl Skin Decal for Pelican Tumbler 32 oz wrap cover sticker skins Pink Roses</td>\n",
       "      <td>3292&gt;3581&gt;3145&gt;2201</td>\n",
       "      <td>MightySkins Protective Vinyl Skin Decal for Pelican Tumbler 32 oz wrap cover sticker skins Pink Roses</td>\n",
       "    </tr>\n",
       "  </tbody>\n",
       "</table>\n",
       "</div>"
      ],
      "text/plain": [
       "                                                                                                         desc  \\\n",
       "441385  Unique Bargains Ladies Girls Hairdressing Stretchy Hair Bands Ropes Ties 50 Pcs Black                   \n",
       "516513  Vince Camuto Kamaye Womens Suede Platforms & Wedges                                                     \n",
       "552436  MightySkins Protective Vinyl Skin Decal for Pelican Tumbler 32 oz wrap cover sticker skins Pink Roses   \n",
       "\n",
       "                       code  \\\n",
       "441385  3625>3641>1599>2026   \n",
       "516513  1608>1206>1632>4904   \n",
       "552436  3292>3581>3145>2201   \n",
       "\n",
       "                                                                                                desc_stripped  \n",
       "441385  Unique Bargains Ladies Girls Hairdressing Stretchy Hair Bands Ropes Ties 50 Pcs Black                  \n",
       "516513  Vince Camuto Kamaye Womens Suede Platforms & Wedges                                                    \n",
       "552436  MightySkins Protective Vinyl Skin Decal for Pelican Tumbler 32 oz wrap cover sticker skins Pink Roses  "
      ]
     },
     "execution_count": 13,
     "metadata": {},
     "output_type": "execute_result"
    }
   ],
   "source": [
    "# we'll do this step-by-step, to illustrate\n",
    "df['desc_stripped'] = df['desc'].str.strip()\n",
    "\n",
    "# this is pulling 5 random rows, instead of the top 5, just for some variety\n",
    "# note the new colummn\n",
    "df.sample(3)"
   ]
  },
  {
   "cell_type": "code",
   "execution_count": 14,
   "metadata": {},
   "outputs": [
    {
     "data": {
      "text/html": [
       "<div>\n",
       "<style scoped>\n",
       "    .dataframe tbody tr th:only-of-type {\n",
       "        vertical-align: middle;\n",
       "    }\n",
       "\n",
       "    .dataframe tbody tr th {\n",
       "        vertical-align: top;\n",
       "    }\n",
       "\n",
       "    .dataframe thead th {\n",
       "        text-align: right;\n",
       "    }\n",
       "</style>\n",
       "<table border=\"1\" class=\"dataframe\">\n",
       "  <thead>\n",
       "    <tr style=\"text-align: right;\">\n",
       "      <th></th>\n",
       "      <th>desc</th>\n",
       "      <th>code</th>\n",
       "      <th>desc_stripped</th>\n",
       "      <th>desc_lower</th>\n",
       "    </tr>\n",
       "  </thead>\n",
       "  <tbody>\n",
       "    <tr>\n",
       "      <th>0</th>\n",
       "      <td>Replacement Viewsonic VG710 LCD Monitor 48Watt AC Adapter 12V 4A</td>\n",
       "      <td>3292&gt;114&gt;1231</td>\n",
       "      <td>Replacement Viewsonic VG710 LCD Monitor 48Watt AC Adapter 12V 4A</td>\n",
       "      <td>replacement viewsonic vg710 lcd monitor 48watt ac adapter 12v 4a</td>\n",
       "    </tr>\n",
       "    <tr>\n",
       "      <th>1</th>\n",
       "      <td>HP COMPAQ Pavilion DV6-1410EZ 4400mAh 48Wh 6 Cell Li-ion 10.8V Black Compatible Battery</td>\n",
       "      <td>3292&gt;1370&gt;4767&gt;3975&gt;1420</td>\n",
       "      <td>HP COMPAQ Pavilion DV6-1410EZ 4400mAh 48Wh 6 Cell Li-ion 10.8V Black Compatible Battery</td>\n",
       "      <td>hp compaq pavilion dv6-1410ez 4400mah 48wh 6 cell li-ion 10.8v black compatible battery</td>\n",
       "    </tr>\n",
       "  </tbody>\n",
       "</table>\n",
       "</div>"
      ],
      "text/plain": [
       "                                                                                      desc  \\\n",
       "0  Replacement Viewsonic VG710 LCD Monitor 48Watt AC Adapter 12V 4A                          \n",
       "1  HP COMPAQ Pavilion DV6-1410EZ 4400mAh 48Wh 6 Cell Li-ion 10.8V Black Compatible Battery   \n",
       "\n",
       "                       code  \\\n",
       "0  3292>114>1231              \n",
       "1  3292>1370>4767>3975>1420   \n",
       "\n",
       "                                                                             desc_stripped  \\\n",
       "0  Replacement Viewsonic VG710 LCD Monitor 48Watt AC Adapter 12V 4A                          \n",
       "1  HP COMPAQ Pavilion DV6-1410EZ 4400mAh 48Wh 6 Cell Li-ion 10.8V Black Compatible Battery   \n",
       "\n",
       "                                                                                desc_lower  \n",
       "0  replacement viewsonic vg710 lcd monitor 48watt ac adapter 12v 4a                         \n",
       "1  hp compaq pavilion dv6-1410ez 4400mah 48wh 6 cell li-ion 10.8v black compatible battery  "
      ]
     },
     "execution_count": 14,
     "metadata": {},
     "output_type": "execute_result"
    }
   ],
   "source": [
    "df['desc_lower'] = df['desc_stripped'].str.lower()\n",
    "\n",
    "df.head(2)"
   ]
  },
  {
   "cell_type": "code",
   "execution_count": 15,
   "metadata": {},
   "outputs": [
    {
     "data": {
      "text/html": [
       "<div>\n",
       "<style scoped>\n",
       "    .dataframe tbody tr th:only-of-type {\n",
       "        vertical-align: middle;\n",
       "    }\n",
       "\n",
       "    .dataframe tbody tr th {\n",
       "        vertical-align: top;\n",
       "    }\n",
       "\n",
       "    .dataframe thead th {\n",
       "        text-align: right;\n",
       "    }\n",
       "</style>\n",
       "<table border=\"1\" class=\"dataframe\">\n",
       "  <thead>\n",
       "    <tr style=\"text-align: right;\">\n",
       "      <th></th>\n",
       "      <th>desc</th>\n",
       "      <th>code</th>\n",
       "      <th>desc_stripped</th>\n",
       "      <th>desc_lower</th>\n",
       "      <th>desc_word_list</th>\n",
       "      <th>desc_words_only</th>\n",
       "    </tr>\n",
       "  </thead>\n",
       "  <tbody>\n",
       "    <tr>\n",
       "      <th>0</th>\n",
       "      <td>Replacement Viewsonic VG710 LCD Monitor 48Watt AC Adapter 12V 4A</td>\n",
       "      <td>3292&gt;114&gt;1231</td>\n",
       "      <td>Replacement Viewsonic VG710 LCD Monitor 48Watt AC Adapter 12V 4A</td>\n",
       "      <td>replacement viewsonic vg710 lcd monitor 48watt ac adapter 12v 4a</td>\n",
       "      <td>[replacement, viewsonic, vg710, lcd, monitor, 48watt, ac, adapter, 12v, 4a]</td>\n",
       "      <td>replacement viewsonic vg710 lcd monitor 48watt ac adapter 12v 4a</td>\n",
       "    </tr>\n",
       "    <tr>\n",
       "      <th>1</th>\n",
       "      <td>HP COMPAQ Pavilion DV6-1410EZ 4400mAh 48Wh 6 Cell Li-ion 10.8V Black Compatible Battery</td>\n",
       "      <td>3292&gt;1370&gt;4767&gt;3975&gt;1420</td>\n",
       "      <td>HP COMPAQ Pavilion DV6-1410EZ 4400mAh 48Wh 6 Cell Li-ion 10.8V Black Compatible Battery</td>\n",
       "      <td>hp compaq pavilion dv6-1410ez 4400mah 48wh 6 cell li-ion 10.8v black compatible battery</td>\n",
       "      <td>[hp, compaq, pavilion, dv6, 1410ez, 4400mah, 48wh, 6, cell, li, ion, 10, 8v, black, compatible, battery]</td>\n",
       "      <td>hp compaq pavilion dv6 1410ez 4400mah 48wh 6 cell li ion 10 8v black compatible battery</td>\n",
       "    </tr>\n",
       "    <tr>\n",
       "      <th>2</th>\n",
       "      <td>Bonjour</td>\n",
       "      <td>2296&gt;3597&gt;2989</td>\n",
       "      <td>Bonjour</td>\n",
       "      <td>bonjour</td>\n",
       "      <td>[bonjour]</td>\n",
       "      <td>bonjour</td>\n",
       "    </tr>\n",
       "    <tr>\n",
       "      <th>3</th>\n",
       "      <td>Two Pack 6V 12Ah  Eaton POWERRITE PRO II 2400 6V 12Ah UPS Replacement Battery - SPS BRAND</td>\n",
       "      <td>3292&gt;114&gt;1231</td>\n",
       "      <td>Two Pack 6V 12Ah  Eaton POWERRITE PRO II 2400 6V 12Ah UPS Replacement Battery - SPS BRAND</td>\n",
       "      <td>two pack 6v 12ah  eaton powerrite pro ii 2400 6v 12ah ups replacement battery - sps brand</td>\n",
       "      <td>[two, pack, 6v, 12ah, eaton, powerrite, pro, ii, 2400, 6v, 12ah, ups, replacement, battery, sps, brand]</td>\n",
       "      <td>two pack 6v 12ah eaton powerrite pro ii 2400 6v 12ah ups replacement battery sps brand</td>\n",
       "    </tr>\n",
       "    <tr>\n",
       "      <th>4</th>\n",
       "      <td>Generations Small Side Table White</td>\n",
       "      <td>4015&gt;3636&gt;1319&gt;1409&gt;3606</td>\n",
       "      <td>Generations Small Side Table White</td>\n",
       "      <td>generations small side table white</td>\n",
       "      <td>[generations, small, side, table, white]</td>\n",
       "      <td>generations small side table white</td>\n",
       "    </tr>\n",
       "  </tbody>\n",
       "</table>\n",
       "</div>"
      ],
      "text/plain": [
       "                                                                                        desc  \\\n",
       "0  Replacement Viewsonic VG710 LCD Monitor 48Watt AC Adapter 12V 4A                            \n",
       "1  HP COMPAQ Pavilion DV6-1410EZ 4400mAh 48Wh 6 Cell Li-ion 10.8V Black Compatible Battery     \n",
       "2  Bonjour                                                                                     \n",
       "3  Two Pack 6V 12Ah  Eaton POWERRITE PRO II 2400 6V 12Ah UPS Replacement Battery - SPS BRAND   \n",
       "4  Generations Small Side Table White                                                          \n",
       "\n",
       "                       code  \\\n",
       "0  3292>114>1231              \n",
       "1  3292>1370>4767>3975>1420   \n",
       "2  2296>3597>2989             \n",
       "3  3292>114>1231              \n",
       "4  4015>3636>1319>1409>3606   \n",
       "\n",
       "                                                                               desc_stripped  \\\n",
       "0  Replacement Viewsonic VG710 LCD Monitor 48Watt AC Adapter 12V 4A                            \n",
       "1  HP COMPAQ Pavilion DV6-1410EZ 4400mAh 48Wh 6 Cell Li-ion 10.8V Black Compatible Battery     \n",
       "2  Bonjour                                                                                     \n",
       "3  Two Pack 6V 12Ah  Eaton POWERRITE PRO II 2400 6V 12Ah UPS Replacement Battery - SPS BRAND   \n",
       "4  Generations Small Side Table White                                                          \n",
       "\n",
       "                                                                                  desc_lower  \\\n",
       "0  replacement viewsonic vg710 lcd monitor 48watt ac adapter 12v 4a                            \n",
       "1  hp compaq pavilion dv6-1410ez 4400mah 48wh 6 cell li-ion 10.8v black compatible battery     \n",
       "2  bonjour                                                                                     \n",
       "3  two pack 6v 12ah  eaton powerrite pro ii 2400 6v 12ah ups replacement battery - sps brand   \n",
       "4  generations small side table white                                                          \n",
       "\n",
       "                                                                                             desc_word_list  \\\n",
       "0  [replacement, viewsonic, vg710, lcd, monitor, 48watt, ac, adapter, 12v, 4a]                                \n",
       "1  [hp, compaq, pavilion, dv6, 1410ez, 4400mah, 48wh, 6, cell, li, ion, 10, 8v, black, compatible, battery]   \n",
       "2  [bonjour]                                                                                                  \n",
       "3  [two, pack, 6v, 12ah, eaton, powerrite, pro, ii, 2400, 6v, 12ah, ups, replacement, battery, sps, brand]    \n",
       "4  [generations, small, side, table, white]                                                                   \n",
       "\n",
       "                                                                           desc_words_only  \n",
       "0  replacement viewsonic vg710 lcd monitor 48watt ac adapter 12v 4a                         \n",
       "1  hp compaq pavilion dv6 1410ez 4400mah 48wh 6 cell li ion 10 8v black compatible battery  \n",
       "2  bonjour                                                                                  \n",
       "3  two pack 6v 12ah eaton powerrite pro ii 2400 6v 12ah ups replacement battery sps brand   \n",
       "4  generations small side table white                                                       "
      ]
     },
     "execution_count": 15,
     "metadata": {},
     "output_type": "execute_result"
    }
   ],
   "source": [
    "import re\n",
    "# this is in general one of the more useful regular expressions to know\n",
    "# the '\\w' searches for word-like tokens, and the '+' says \"one or more\"\n",
    "# combined, this gets us 'one or more characters', i.e. word tokens w/o commas, spaces, etc.\n",
    "WORD_REGEX = r'\\w+'\n",
    "\n",
    "def find_words(desc):\n",
    "    return re.findall(WORD_REGEX, desc)\n",
    "df['desc_word_list'] = df['desc_lower'].apply(find_words)\n",
    "df['desc_words_only'] = df['desc_word_list'].str.join(' ')\n",
    "\n",
    "df.head()"
   ]
  },
  {
   "cell_type": "markdown",
   "metadata": {},
   "source": [
    "To clean things up a bit, let's get rid of some of these intermediate columns.\n",
    "\n",
    "In practice, this is a useful thing to do because it will free up memory. If you find your code is using too much memory or is running very slow, then consider deleting unnecessary columns in this manner."
   ]
  },
  {
   "cell_type": "code",
   "execution_count": 16,
   "metadata": {},
   "outputs": [
    {
     "data": {
      "text/html": [
       "<div>\n",
       "<style scoped>\n",
       "    .dataframe tbody tr th:only-of-type {\n",
       "        vertical-align: middle;\n",
       "    }\n",
       "\n",
       "    .dataframe tbody tr th {\n",
       "        vertical-align: top;\n",
       "    }\n",
       "\n",
       "    .dataframe thead th {\n",
       "        text-align: right;\n",
       "    }\n",
       "</style>\n",
       "<table border=\"1\" class=\"dataframe\">\n",
       "  <thead>\n",
       "    <tr style=\"text-align: right;\">\n",
       "      <th></th>\n",
       "      <th>desc</th>\n",
       "      <th>code</th>\n",
       "      <th>desc_words_only</th>\n",
       "    </tr>\n",
       "  </thead>\n",
       "  <tbody>\n",
       "    <tr>\n",
       "      <th>0</th>\n",
       "      <td>Replacement Viewsonic VG710 LCD Monitor 48Watt AC Adapter 12V 4A</td>\n",
       "      <td>3292&gt;114&gt;1231</td>\n",
       "      <td>replacement viewsonic vg710 lcd monitor 48watt ac adapter 12v 4a</td>\n",
       "    </tr>\n",
       "    <tr>\n",
       "      <th>1</th>\n",
       "      <td>HP COMPAQ Pavilion DV6-1410EZ 4400mAh 48Wh 6 Cell Li-ion 10.8V Black Compatible Battery</td>\n",
       "      <td>3292&gt;1370&gt;4767&gt;3975&gt;1420</td>\n",
       "      <td>hp compaq pavilion dv6 1410ez 4400mah 48wh 6 cell li ion 10 8v black compatible battery</td>\n",
       "    </tr>\n",
       "    <tr>\n",
       "      <th>2</th>\n",
       "      <td>Bonjour</td>\n",
       "      <td>2296&gt;3597&gt;2989</td>\n",
       "      <td>bonjour</td>\n",
       "    </tr>\n",
       "    <tr>\n",
       "      <th>3</th>\n",
       "      <td>Two Pack 6V 12Ah  Eaton POWERRITE PRO II 2400 6V 12Ah UPS Replacement Battery - SPS BRAND</td>\n",
       "      <td>3292&gt;114&gt;1231</td>\n",
       "      <td>two pack 6v 12ah eaton powerrite pro ii 2400 6v 12ah ups replacement battery sps brand</td>\n",
       "    </tr>\n",
       "    <tr>\n",
       "      <th>4</th>\n",
       "      <td>Generations Small Side Table White</td>\n",
       "      <td>4015&gt;3636&gt;1319&gt;1409&gt;3606</td>\n",
       "      <td>generations small side table white</td>\n",
       "    </tr>\n",
       "  </tbody>\n",
       "</table>\n",
       "</div>"
      ],
      "text/plain": [
       "                                                                                        desc  \\\n",
       "0  Replacement Viewsonic VG710 LCD Monitor 48Watt AC Adapter 12V 4A                            \n",
       "1  HP COMPAQ Pavilion DV6-1410EZ 4400mAh 48Wh 6 Cell Li-ion 10.8V Black Compatible Battery     \n",
       "2  Bonjour                                                                                     \n",
       "3  Two Pack 6V 12Ah  Eaton POWERRITE PRO II 2400 6V 12Ah UPS Replacement Battery - SPS BRAND   \n",
       "4  Generations Small Side Table White                                                          \n",
       "\n",
       "                       code  \\\n",
       "0  3292>114>1231              \n",
       "1  3292>1370>4767>3975>1420   \n",
       "2  2296>3597>2989             \n",
       "3  3292>114>1231              \n",
       "4  4015>3636>1319>1409>3606   \n",
       "\n",
       "                                                                           desc_words_only  \n",
       "0  replacement viewsonic vg710 lcd monitor 48watt ac adapter 12v 4a                         \n",
       "1  hp compaq pavilion dv6 1410ez 4400mah 48wh 6 cell li ion 10 8v black compatible battery  \n",
       "2  bonjour                                                                                  \n",
       "3  two pack 6v 12ah eaton powerrite pro ii 2400 6v 12ah ups replacement battery sps brand   \n",
       "4  generations small side table white                                                       "
      ]
     },
     "execution_count": 16,
     "metadata": {},
     "output_type": "execute_result"
    }
   ],
   "source": [
    "# running this cell more than once will cause an error\n",
    "# because when you try to delete somethat that has \n",
    "# already been deleted, it's no descer there\n",
    "del df['desc_stripped']\n",
    "del df['desc_lower']\n",
    "del df['desc_word_list']\n",
    "\n",
    "df.head()"
   ]
  },
  {
   "cell_type": "markdown",
   "metadata": {},
   "source": [
    "#### Part 3: Initial Model\n",
    "Now that we've gotten English words only, we can try a simple model. Let's get into the modelling approach and the package that we'll use to implement it, `scikit-learn`.\n",
    "\n",
    "#We'll be implementing a _bag-of-words_ model. The idea is very simple: each word becomes a separate variable. For each variable, the value is the number of times that word occurs in that particular record. Let's demonstrate with a quick example."
   ]
  },
  {
   "cell_type": "code",
   "execution_count": 17,
   "metadata": {},
   "outputs": [
    {
     "data": {
      "text/plain": [
       "0    replacement viewsonic vg710 lcd monitor 48watt ac adapter 12v 4a                       \n",
       "1    hp compaq pavilion dv6 1410ez 4400mah 48wh 6 cell li ion 10 8v black compatible battery\n",
       "Name: desc_words_only, dtype: object"
      ]
     },
     "execution_count": 17,
     "metadata": {},
     "output_type": "execute_result"
    }
   ],
   "source": [
    "# let's try this process on the first few and see what we get back\n",
    "first_few_only = df.head(2)\n",
    "# look at the final results, for reference\n",
    "first_few_only['desc_words_only']"
   ]
  },
  {
   "cell_type": "code",
   "execution_count": 18,
   "metadata": {},
   "outputs": [
    {
     "data": {
      "text/plain": [
       "array([[0, 1, 0, 0, 1, 0, 1, 0, 1, 1, 0, 0, 0, 0, 0, 0, 0, 0, 1, 0, 1, 0,\n",
       "        1, 1, 1],\n",
       "       [1, 0, 1, 1, 0, 1, 0, 1, 0, 0, 1, 1, 1, 1, 1, 1, 1, 1, 0, 1, 0, 1,\n",
       "        0, 0, 0]], dtype=int64)"
      ]
     },
     "execution_count": 18,
     "metadata": {},
     "output_type": "execute_result"
    }
   ],
   "source": [
    "# scikit-learn calls this process \"vectorizing\", i.e. turning a sentence into a vector of variables.\n",
    "from sklearn.feature_extraction.text import CountVectorizer, TfidfVectorizer\n",
    "\n",
    "cv = CountVectorizer()\n",
    "# this will actually convert our first few descriptions into vectors\n",
    "tfd = cv.fit_transform(first_few_only['desc_words_only'])\n",
    "# by default, it's a sparse matrix\n",
    "tfd.toarray()"
   ]
  },
  {
   "cell_type": "markdown",
   "metadata": {},
   "source": [
    "For explainability, let's cleanly present this mapping:"
   ]
  },
  {
   "cell_type": "code",
   "execution_count": 19,
   "metadata": {},
   "outputs": [
    {
     "data": {
      "text/html": [
       "<div>\n",
       "<style scoped>\n",
       "    .dataframe tbody tr th:only-of-type {\n",
       "        vertical-align: middle;\n",
       "    }\n",
       "\n",
       "    .dataframe tbody tr th {\n",
       "        vertical-align: top;\n",
       "    }\n",
       "\n",
       "    .dataframe thead th {\n",
       "        text-align: right;\n",
       "    }\n",
       "</style>\n",
       "<table border=\"1\" class=\"dataframe\">\n",
       "  <thead>\n",
       "    <tr style=\"text-align: right;\">\n",
       "      <th></th>\n",
       "      <th>10</th>\n",
       "      <th>12v</th>\n",
       "      <th>1410ez</th>\n",
       "      <th>4400mah</th>\n",
       "      <th>48watt</th>\n",
       "      <th>48wh</th>\n",
       "      <th>4a</th>\n",
       "      <th>8v</th>\n",
       "      <th>ac</th>\n",
       "      <th>adapter</th>\n",
       "      <th>...</th>\n",
       "      <th>dv6</th>\n",
       "      <th>hp</th>\n",
       "      <th>ion</th>\n",
       "      <th>lcd</th>\n",
       "      <th>li</th>\n",
       "      <th>monitor</th>\n",
       "      <th>pavilion</th>\n",
       "      <th>replacement</th>\n",
       "      <th>vg710</th>\n",
       "      <th>viewsonic</th>\n",
       "    </tr>\n",
       "    <tr>\n",
       "      <th>desc_words_only</th>\n",
       "      <th></th>\n",
       "      <th></th>\n",
       "      <th></th>\n",
       "      <th></th>\n",
       "      <th></th>\n",
       "      <th></th>\n",
       "      <th></th>\n",
       "      <th></th>\n",
       "      <th></th>\n",
       "      <th></th>\n",
       "      <th></th>\n",
       "      <th></th>\n",
       "      <th></th>\n",
       "      <th></th>\n",
       "      <th></th>\n",
       "      <th></th>\n",
       "      <th></th>\n",
       "      <th></th>\n",
       "      <th></th>\n",
       "      <th></th>\n",
       "      <th></th>\n",
       "    </tr>\n",
       "  </thead>\n",
       "  <tbody>\n",
       "    <tr>\n",
       "      <th>replacement viewsonic vg710 lcd monitor 48watt ac adapter 12v 4a</th>\n",
       "      <td>0</td>\n",
       "      <td>1</td>\n",
       "      <td>0</td>\n",
       "      <td>0</td>\n",
       "      <td>1</td>\n",
       "      <td>0</td>\n",
       "      <td>1</td>\n",
       "      <td>0</td>\n",
       "      <td>1</td>\n",
       "      <td>1</td>\n",
       "      <td>...</td>\n",
       "      <td>0</td>\n",
       "      <td>0</td>\n",
       "      <td>0</td>\n",
       "      <td>1</td>\n",
       "      <td>0</td>\n",
       "      <td>1</td>\n",
       "      <td>0</td>\n",
       "      <td>1</td>\n",
       "      <td>1</td>\n",
       "      <td>1</td>\n",
       "    </tr>\n",
       "    <tr>\n",
       "      <th>hp compaq pavilion dv6 1410ez 4400mah 48wh 6 cell li ion 10 8v black compatible battery</th>\n",
       "      <td>1</td>\n",
       "      <td>0</td>\n",
       "      <td>1</td>\n",
       "      <td>1</td>\n",
       "      <td>0</td>\n",
       "      <td>1</td>\n",
       "      <td>0</td>\n",
       "      <td>1</td>\n",
       "      <td>0</td>\n",
       "      <td>0</td>\n",
       "      <td>...</td>\n",
       "      <td>1</td>\n",
       "      <td>1</td>\n",
       "      <td>1</td>\n",
       "      <td>0</td>\n",
       "      <td>1</td>\n",
       "      <td>0</td>\n",
       "      <td>1</td>\n",
       "      <td>0</td>\n",
       "      <td>0</td>\n",
       "      <td>0</td>\n",
       "    </tr>\n",
       "  </tbody>\n",
       "</table>\n",
       "<p>2 rows × 25 columns</p>\n",
       "</div>"
      ],
      "text/plain": [
       "                                                                                         10  \\\n",
       "desc_words_only                                                                               \n",
       "replacement viewsonic vg710 lcd monitor 48watt ac adapter 12v 4a                         0    \n",
       "hp compaq pavilion dv6 1410ez 4400mah 48wh 6 cell li ion 10 8v black compatible battery  1    \n",
       "\n",
       "                                                                                         12v  \\\n",
       "desc_words_only                                                                                \n",
       "replacement viewsonic vg710 lcd monitor 48watt ac adapter 12v 4a                         1     \n",
       "hp compaq pavilion dv6 1410ez 4400mah 48wh 6 cell li ion 10 8v black compatible battery  0     \n",
       "\n",
       "                                                                                         1410ez  \\\n",
       "desc_words_only                                                                                   \n",
       "replacement viewsonic vg710 lcd monitor 48watt ac adapter 12v 4a                         0        \n",
       "hp compaq pavilion dv6 1410ez 4400mah 48wh 6 cell li ion 10 8v black compatible battery  1        \n",
       "\n",
       "                                                                                         4400mah  \\\n",
       "desc_words_only                                                                                    \n",
       "replacement viewsonic vg710 lcd monitor 48watt ac adapter 12v 4a                         0         \n",
       "hp compaq pavilion dv6 1410ez 4400mah 48wh 6 cell li ion 10 8v black compatible battery  1         \n",
       "\n",
       "                                                                                         48watt  \\\n",
       "desc_words_only                                                                                   \n",
       "replacement viewsonic vg710 lcd monitor 48watt ac adapter 12v 4a                         1        \n",
       "hp compaq pavilion dv6 1410ez 4400mah 48wh 6 cell li ion 10 8v black compatible battery  0        \n",
       "\n",
       "                                                                                         48wh  \\\n",
       "desc_words_only                                                                                 \n",
       "replacement viewsonic vg710 lcd monitor 48watt ac adapter 12v 4a                         0      \n",
       "hp compaq pavilion dv6 1410ez 4400mah 48wh 6 cell li ion 10 8v black compatible battery  1      \n",
       "\n",
       "                                                                                         4a  \\\n",
       "desc_words_only                                                                               \n",
       "replacement viewsonic vg710 lcd monitor 48watt ac adapter 12v 4a                         1    \n",
       "hp compaq pavilion dv6 1410ez 4400mah 48wh 6 cell li ion 10 8v black compatible battery  0    \n",
       "\n",
       "                                                                                         8v  \\\n",
       "desc_words_only                                                                               \n",
       "replacement viewsonic vg710 lcd monitor 48watt ac adapter 12v 4a                         0    \n",
       "hp compaq pavilion dv6 1410ez 4400mah 48wh 6 cell li ion 10 8v black compatible battery  1    \n",
       "\n",
       "                                                                                         ac  \\\n",
       "desc_words_only                                                                               \n",
       "replacement viewsonic vg710 lcd monitor 48watt ac adapter 12v 4a                         1    \n",
       "hp compaq pavilion dv6 1410ez 4400mah 48wh 6 cell li ion 10 8v black compatible battery  0    \n",
       "\n",
       "                                                                                         adapter  \\\n",
       "desc_words_only                                                                                    \n",
       "replacement viewsonic vg710 lcd monitor 48watt ac adapter 12v 4a                         1         \n",
       "hp compaq pavilion dv6 1410ez 4400mah 48wh 6 cell li ion 10 8v black compatible battery  0         \n",
       "\n",
       "                                                                                           ...      \\\n",
       "desc_words_only                                                                            ...       \n",
       "replacement viewsonic vg710 lcd monitor 48watt ac adapter 12v 4a                           ...       \n",
       "hp compaq pavilion dv6 1410ez 4400mah 48wh 6 cell li ion 10 8v black compatible battery    ...       \n",
       "\n",
       "                                                                                         dv6  \\\n",
       "desc_words_only                                                                                \n",
       "replacement viewsonic vg710 lcd monitor 48watt ac adapter 12v 4a                         0     \n",
       "hp compaq pavilion dv6 1410ez 4400mah 48wh 6 cell li ion 10 8v black compatible battery  1     \n",
       "\n",
       "                                                                                         hp  \\\n",
       "desc_words_only                                                                               \n",
       "replacement viewsonic vg710 lcd monitor 48watt ac adapter 12v 4a                         0    \n",
       "hp compaq pavilion dv6 1410ez 4400mah 48wh 6 cell li ion 10 8v black compatible battery  1    \n",
       "\n",
       "                                                                                         ion  \\\n",
       "desc_words_only                                                                                \n",
       "replacement viewsonic vg710 lcd monitor 48watt ac adapter 12v 4a                         0     \n",
       "hp compaq pavilion dv6 1410ez 4400mah 48wh 6 cell li ion 10 8v black compatible battery  1     \n",
       "\n",
       "                                                                                         lcd  \\\n",
       "desc_words_only                                                                                \n",
       "replacement viewsonic vg710 lcd monitor 48watt ac adapter 12v 4a                         1     \n",
       "hp compaq pavilion dv6 1410ez 4400mah 48wh 6 cell li ion 10 8v black compatible battery  0     \n",
       "\n",
       "                                                                                         li  \\\n",
       "desc_words_only                                                                               \n",
       "replacement viewsonic vg710 lcd monitor 48watt ac adapter 12v 4a                         0    \n",
       "hp compaq pavilion dv6 1410ez 4400mah 48wh 6 cell li ion 10 8v black compatible battery  1    \n",
       "\n",
       "                                                                                         monitor  \\\n",
       "desc_words_only                                                                                    \n",
       "replacement viewsonic vg710 lcd monitor 48watt ac adapter 12v 4a                         1         \n",
       "hp compaq pavilion dv6 1410ez 4400mah 48wh 6 cell li ion 10 8v black compatible battery  0         \n",
       "\n",
       "                                                                                         pavilion  \\\n",
       "desc_words_only                                                                                     \n",
       "replacement viewsonic vg710 lcd monitor 48watt ac adapter 12v 4a                         0          \n",
       "hp compaq pavilion dv6 1410ez 4400mah 48wh 6 cell li ion 10 8v black compatible battery  1          \n",
       "\n",
       "                                                                                         replacement  \\\n",
       "desc_words_only                                                                                        \n",
       "replacement viewsonic vg710 lcd monitor 48watt ac adapter 12v 4a                         1             \n",
       "hp compaq pavilion dv6 1410ez 4400mah 48wh 6 cell li ion 10 8v black compatible battery  0             \n",
       "\n",
       "                                                                                         vg710  \\\n",
       "desc_words_only                                                                                  \n",
       "replacement viewsonic vg710 lcd monitor 48watt ac adapter 12v 4a                         1       \n",
       "hp compaq pavilion dv6 1410ez 4400mah 48wh 6 cell li ion 10 8v black compatible battery  0       \n",
       "\n",
       "                                                                                         viewsonic  \n",
       "desc_words_only                                                                                     \n",
       "replacement viewsonic vg710 lcd monitor 48watt ac adapter 12v 4a                         1          \n",
       "hp compaq pavilion dv6 1410ez 4400mah 48wh 6 cell li ion 10 8v black compatible battery  0          \n",
       "\n",
       "[2 rows x 25 columns]"
      ]
     },
     "execution_count": 19,
     "metadata": {},
     "output_type": "execute_result"
    }
   ],
   "source": [
    "# don't worry about this, it's for pedagogical purposes\n",
    "columns = [x[0] for x in sorted(list(cv.vocabulary_.items()), key=lambda x: x[1])]\n",
    "pd.DataFrame(tfd.toarray(), columns=columns, index=first_few_only['desc_words_only'])"
   ]
  },
  {
   "cell_type": "markdown",
   "metadata": {},
   "source": [
    "Now that we get the idea, let's do this for the entire dataset and see what it looks like."
   ]
  },
  {
   "cell_type": "code",
   "execution_count": 20,
   "metadata": {},
   "outputs": [
    {
     "data": {
      "text/plain": [
       "<800000x427297 sparse matrix of type '<class 'numpy.int64'>'\n",
       "\twith 8185293 stored elements in Compressed Sparse Row format>"
      ]
     },
     "execution_count": 20,
     "metadata": {},
     "output_type": "execute_result"
    }
   ],
   "source": [
    "cv = CountVectorizer()\n",
    "cv.fit_transform(df[\"desc_words_only\"])"
   ]
  },
  {
   "cell_type": "markdown",
   "metadata": {},
   "source": [
    "We won't try to convert this into an array as above, because it would be very memory-intensive. But we can see we have 427,297 unique words.\n",
    "\n",
    "Now, we have variables. But what what exactly are we going to model? The trade-off is that the more levels of the categorization we use, the fewer examples we'll have in each category."
   ]
  },
  {
   "cell_type": "code",
   "execution_count": 21,
   "metadata": {},
   "outputs": [
    {
     "data": {
      "text/plain": [
       "count    108.000000  \n",
       "mean     7331.740741 \n",
       "std      16112.232764\n",
       "min      1.000000    \n",
       "25%      283.500000  \n",
       "50%      1227.000000 \n",
       "75%      5660.500000 \n",
       "max      84438.000000\n",
       "Name: first_second, dtype: float64"
      ]
     },
     "execution_count": 21,
     "metadata": {},
     "output_type": "execute_result"
    }
   ],
   "source": [
    "df[\"codes\"] = df[\"code\"].str.split(\">\")\n",
    "df[\"first_code\"] = df[\"codes\"].str[0]\n",
    "df[\"second_code\"] = df[\"codes\"].str[1]\n",
    "df[\"first_second\"] = df[\"first_code\"] + \">\" + df[\"second_code\"]\n",
    "\n",
    "df[\"first_second\"].value_counts().describe()"
   ]
  },
  {
   "cell_type": "markdown",
   "metadata": {},
   "source": [
    "We see that some categories do have only 1 description. Let's see how many there are:"
   ]
  },
  {
   "cell_type": "code",
   "execution_count": 22,
   "metadata": {},
   "outputs": [
    {
     "name": "stdout",
     "output_type": "stream",
     "text": [
      "1 codes with only 1 desc\n"
     ]
    },
    {
     "data": {
      "text/plain": [
       "2199>2819    1\n",
       "Name: first_second, dtype: int64"
      ]
     },
     "execution_count": 22,
     "metadata": {},
     "output_type": "execute_result"
    }
   ],
   "source": [
    "vcs = df[\"first_second\"].value_counts()\n",
    "print(len(vcs[vcs == 1]), \"codes with only 1 desc\")\n",
    "vcs[vcs == 1]"
   ]
  },
  {
   "cell_type": "markdown",
   "metadata": {},
   "source": [
    "We'd probably want to investigate these categories more closely. \n",
    "\n",
    "\n",
    "#### Training / test sets\n",
    "As a bare minimum, we need at least 2 records in any category we want to attempt to model. This is because we need to split our data into two pieces: the _training set_, which we'll develop the model on, and the _test set_, which we'll subsequently evaluate it on. We want to see how the model performs on descriptions it's never seen before.\n",
    "\n",
    "In practice, we almost certainly want more than 2, but we'll continue along here.\n",
    "\n",
    "In addition, [_cross validation_](https://towardsdatascience.com/train-test-split-and-cross-validation-in-python-80b61beca4b6), which we won't get into today, is an important technique in machine learning that prevents us from \"overfitting\" the model to the sample of data we're using. It's easy to do in python with `scikit-learn`."
   ]
  },
  {
   "cell_type": "code",
   "execution_count": 23,
   "metadata": {},
   "outputs": [
    {
     "name": "stdout",
     "output_type": "stream",
     "text": [
      "after deduping, we have 799539 records\n",
      "after removing <2 record categories, there are 791368 records\n",
      "training set has 593526 records -- 75.0 percent -- and test set has 197842 records\n"
     ]
    }
   ],
   "source": [
    "from sklearn.model_selection import train_test_split\n",
    "def make_test_train(df, column_name):\n",
    "    # first, let's remove duplicates\n",
    "    deduped = df.drop_duplicates(subset=[column_name])\n",
    "    print(\"after deduping, we have\", len(deduped), \"records\")\n",
    "\n",
    "    #now, let's remove any HS4 category with <2 records\n",
    "    vcs = deduped[\"first_second\"].value_counts()\n",
    "    to_include = vcs[vcs > 1].index\n",
    "    final_dataset = deduped[deduped[\"first_second\"].isin(to_include)]\n",
    "    print(\"after removing <2 record categories, there are\", len(final_dataset), \"records\")\n",
    "\n",
    "    # the stratify is important -- \n",
    "    # it's making sure that we have an instance of each category in both the train and test sets\n",
    "\n",
    "    train, test = train_test_split(final_dataset, stratify=final_dataset[\"first_second\"])\n",
    "    print(\"training set has\", len(train), \"records --\", 100 * len(train) / len(final_dataset), \n",
    "          \"percent -- and test set has\", len(test), \"records\")\n",
    "    \n",
    "    return train, test\n",
    "train, test = make_test_train(df, \"desc_words_only\")"
   ]
  },
  {
   "cell_type": "markdown",
   "metadata": {},
   "source": [
    "Now that we've split up our data, we can choose a classifier. We'll use one of the simplest out there: Logistic Regression, often known as \"logit.\" Normally, logistic regression is a binary classifier. In our case, because we're categorizing something like 1200 codes, we'll actually be training 1200 models, and selecting the highest-probability prediction. This is known as \"one-vs-all\". There are other voting schemes to convert binary classifiers into multi-class classifiers.\n",
    "\n",
    "One more trick: instead of using the closed-form logistic regression classifier, we'll use a heuristic optimization approach that runs much more quickly and efficiently, called \"stochastic gradient descent.\" SGD, as it's abbreviated, is part of the core technique used to optimize neural nets (back-propagation or \"backprop\") as well. We'll leave it to you to convince yourself that this approach is just as good. You can get into the math or just try it out in Python!"
   ]
  },
  {
   "cell_type": "code",
   "execution_count": 24,
   "metadata": {},
   "outputs": [
    {
     "name": "stderr",
     "output_type": "stream",
     "text": [
      "/apps/anaconda/lib/python3.6/site-packages/sklearn/linear_model/stochastic_gradient.py:128: FutureWarning: max_iter and tol parameters have been added in <class 'sklearn.linear_model.stochastic_gradient.SGDClassifier'> in 0.19. If both are left unset, they default to max_iter=5 and tol=None. If tol is not None, max_iter defaults to max_iter=1000. From 0.21, default max_iter will be 1000, and default tol will be 1e-3.\n",
      "  \"and default tol will be 1e-3.\" % type(self), FutureWarning)\n"
     ]
    }
   ],
   "source": [
    "from sklearn.linear_model import SGDClassifier\n",
    "\n",
    "def make_model(train, vec, column_name, loss='log'):\n",
    "    X = vec.fit_transform(train[column_name])\n",
    "    y = train[\"first_second\"]\n",
    "\n",
    "    clf = SGDClassifier(n_jobs=NCPUS, loss=loss, max_iter=1000, tol=1e-5)\n",
    "    clf.fit(X, y)\n",
    "    return clf, vec\n",
    "clf, vec = make_model(train, CountVectorizer(), \"desc_words_only\")"
   ]
  },
  {
   "cell_type": "markdown",
   "metadata": {},
   "source": [
    "Now we have a trained model in the `clf` variable. Let's see how it does on a simple metric: overall accuracy. That is, \"out of every code the model predicted, what fraction did it get right?\""
   ]
  },
  {
   "cell_type": "code",
   "execution_count": 25,
   "metadata": {},
   "outputs": [
    {
     "name": "stdout",
     "output_type": "stream",
     "text": [
      "in-sample accuracy:  0.862681668537\n",
      "test set accuracy:  0.835444445568\n"
     ]
    }
   ],
   "source": [
    "def evaluate_model(clf, vec, train, test, column_name):\n",
    "    X = vec.transform(train[column_name])\n",
    "    y = train[\"first_second\"]\n",
    "    X_test = vec.transform(test[column_name])\n",
    "    y_test_pred = clf.predict(X_test)\n",
    "    y_test_true = test[\"first_second\"]\n",
    "    print(\"in-sample accuracy: \", (clf.predict(X) == y).mean())\n",
    "    print(\"test set accuracy: \", (y_test_pred == y_test_true).mean())\n",
    "    return y_test_true, y_test_pred\n",
    "    \n",
    "y_test_true, y_test_pred = evaluate_model(clf, vec, train, test, \"desc_words_only\")"
   ]
  },
  {
   "cell_type": "markdown",
   "metadata": {},
   "source": [
    "Not bad! Now, we can drill down a bit in a few ways. A productive way to do so is to look at failing codes."
   ]
  },
  {
   "cell_type": "code",
   "execution_count": 21,
   "metadata": {},
   "outputs": [
    {
     "name": "stderr",
     "output_type": "stream",
     "text": [
      "/home/christian/.miniconda2/envs/new_gpd_3/lib/python3.6/site-packages/sklearn/metrics/classification.py:1143: UndefinedMetricWarning: Precision and F-score are ill-defined and being set to 0.0 in labels with no predicted samples.\n",
      "  'precision', 'predicted', average, warn_for)\n"
     ]
    },
    {
     "data": {
      "text/html": [
       "<div>\n",
       "<style scoped>\n",
       "    .dataframe tbody tr th:only-of-type {\n",
       "        vertical-align: middle;\n",
       "    }\n",
       "\n",
       "    .dataframe tbody tr th {\n",
       "        vertical-align: top;\n",
       "    }\n",
       "\n",
       "    .dataframe thead th {\n",
       "        text-align: right;\n",
       "    }\n",
       "</style>\n",
       "<table border=\"1\" class=\"dataframe\">\n",
       "  <thead>\n",
       "    <tr style=\"text-align: right;\">\n",
       "      <th></th>\n",
       "      <th>f1-score</th>\n",
       "      <th>precision</th>\n",
       "      <th>recall</th>\n",
       "      <th>support</th>\n",
       "    </tr>\n",
       "  </thead>\n",
       "  <tbody>\n",
       "    <tr>\n",
       "      <th>micro avg</th>\n",
       "      <td>0.833913</td>\n",
       "      <td>0.833913</td>\n",
       "      <td>0.833913</td>\n",
       "      <td>197842</td>\n",
       "    </tr>\n",
       "    <tr>\n",
       "      <th>macro avg</th>\n",
       "      <td>0.552782</td>\n",
       "      <td>0.750469</td>\n",
       "      <td>0.490477</td>\n",
       "      <td>197842</td>\n",
       "    </tr>\n",
       "    <tr>\n",
       "      <th>weighted avg</th>\n",
       "      <td>0.828068</td>\n",
       "      <td>0.836773</td>\n",
       "      <td>0.833913</td>\n",
       "      <td>197842</td>\n",
       "    </tr>\n",
       "    <tr>\n",
       "      <th>3292&gt;1370</th>\n",
       "      <td>0.898430</td>\n",
       "      <td>0.865799</td>\n",
       "      <td>0.933618</td>\n",
       "      <td>21090</td>\n",
       "    </tr>\n",
       "    <tr>\n",
       "      <th>2199&gt;4592</th>\n",
       "      <td>0.888386</td>\n",
       "      <td>0.846615</td>\n",
       "      <td>0.934492</td>\n",
       "      <td>19326</td>\n",
       "    </tr>\n",
       "    <tr>\n",
       "      <th>4015&gt;3754</th>\n",
       "      <td>0.796290</td>\n",
       "      <td>0.722548</td>\n",
       "      <td>0.886794</td>\n",
       "      <td>18780</td>\n",
       "    </tr>\n",
       "    <tr>\n",
       "      <th>4015&gt;2337</th>\n",
       "      <td>0.957402</td>\n",
       "      <td>0.969152</td>\n",
       "      <td>0.945934</td>\n",
       "      <td>15444</td>\n",
       "    </tr>\n",
       "    <tr>\n",
       "      <th>4015&gt;3636</th>\n",
       "      <td>0.816503</td>\n",
       "      <td>0.753821</td>\n",
       "      <td>0.890556</td>\n",
       "      <td>14400</td>\n",
       "    </tr>\n",
       "    <tr>\n",
       "      <th>3292&gt;3581</th>\n",
       "      <td>0.915983</td>\n",
       "      <td>0.920118</td>\n",
       "      <td>0.911885</td>\n",
       "      <td>10282</td>\n",
       "    </tr>\n",
       "    <tr>\n",
       "      <th>1608&gt;2320</th>\n",
       "      <td>0.978840</td>\n",
       "      <td>0.980292</td>\n",
       "      <td>0.977393</td>\n",
       "      <td>9466</td>\n",
       "    </tr>\n",
       "    <tr>\n",
       "      <th>3292&gt;114</th>\n",
       "      <td>0.878263</td>\n",
       "      <td>0.918132</td>\n",
       "      <td>0.841712</td>\n",
       "      <td>8434</td>\n",
       "    </tr>\n",
       "    <tr>\n",
       "      <th>4015&gt;2824</th>\n",
       "      <td>0.803922</td>\n",
       "      <td>0.805419</td>\n",
       "      <td>0.802430</td>\n",
       "      <td>5927</td>\n",
       "    </tr>\n",
       "    <tr>\n",
       "      <th>1608&gt;4269</th>\n",
       "      <td>0.952058</td>\n",
       "      <td>0.939957</td>\n",
       "      <td>0.964476</td>\n",
       "      <td>5827</td>\n",
       "    </tr>\n",
       "    <tr>\n",
       "      <th>3625&gt;4399</th>\n",
       "      <td>0.726702</td>\n",
       "      <td>0.734900</td>\n",
       "      <td>0.718685</td>\n",
       "      <td>4351</td>\n",
       "    </tr>\n",
       "    <tr>\n",
       "      <th>1395&gt;2736</th>\n",
       "      <td>0.715771</td>\n",
       "      <td>0.742941</td>\n",
       "      <td>0.690517</td>\n",
       "      <td>4039</td>\n",
       "    </tr>\n",
       "    <tr>\n",
       "      <th>3292&gt;49</th>\n",
       "      <td>0.927457</td>\n",
       "      <td>0.963570</td>\n",
       "      <td>0.893953</td>\n",
       "      <td>3225</td>\n",
       "    </tr>\n",
       "    <tr>\n",
       "      <th>4015&gt;282</th>\n",
       "      <td>0.858306</td>\n",
       "      <td>0.863307</td>\n",
       "      <td>0.853362</td>\n",
       "      <td>3212</td>\n",
       "    </tr>\n",
       "    <tr>\n",
       "      <th>2296&gt;3597</th>\n",
       "      <td>0.646435</td>\n",
       "      <td>0.531872</td>\n",
       "      <td>0.823899</td>\n",
       "      <td>3180</td>\n",
       "    </tr>\n",
       "    <tr>\n",
       "      <th>3292&gt;1041</th>\n",
       "      <td>0.893251</td>\n",
       "      <td>0.924118</td>\n",
       "      <td>0.864379</td>\n",
       "      <td>3001</td>\n",
       "    </tr>\n",
       "    <tr>\n",
       "      <th>1608&gt;1206</th>\n",
       "      <td>0.960901</td>\n",
       "      <td>0.948113</td>\n",
       "      <td>0.974039</td>\n",
       "      <td>2889</td>\n",
       "    </tr>\n",
       "    <tr>\n",
       "      <th>2199&gt;661</th>\n",
       "      <td>0.724228</td>\n",
       "      <td>0.856041</td>\n",
       "      <td>0.627591</td>\n",
       "      <td>2653</td>\n",
       "    </tr>\n",
       "    <tr>\n",
       "      <th>4015&gt;2028</th>\n",
       "      <td>0.810201</td>\n",
       "      <td>0.897222</td>\n",
       "      <td>0.738567</td>\n",
       "      <td>2624</td>\n",
       "    </tr>\n",
       "    <tr>\n",
       "      <th>4015&gt;3271</th>\n",
       "      <td>0.654933</td>\n",
       "      <td>0.711268</td>\n",
       "      <td>0.606867</td>\n",
       "      <td>2330</td>\n",
       "    </tr>\n",
       "    <tr>\n",
       "      <th>1608&gt;1150</th>\n",
       "      <td>0.826359</td>\n",
       "      <td>0.882290</td>\n",
       "      <td>0.777097</td>\n",
       "      <td>2122</td>\n",
       "    </tr>\n",
       "    <tr>\n",
       "      <th>2296&gt;3706</th>\n",
       "      <td>0.655728</td>\n",
       "      <td>0.790587</td>\n",
       "      <td>0.560174</td>\n",
       "      <td>2069</td>\n",
       "    </tr>\n",
       "    <tr>\n",
       "      <th>2075&gt;1724</th>\n",
       "      <td>0.646298</td>\n",
       "      <td>0.724638</td>\n",
       "      <td>0.583245</td>\n",
       "      <td>1886</td>\n",
       "    </tr>\n",
       "    <tr>\n",
       "      <th>4015&gt;3285</th>\n",
       "      <td>0.665510</td>\n",
       "      <td>0.725268</td>\n",
       "      <td>0.614850</td>\n",
       "      <td>1872</td>\n",
       "    </tr>\n",
       "    <tr>\n",
       "      <th>2296&gt;2435</th>\n",
       "      <td>0.560934</td>\n",
       "      <td>0.590174</td>\n",
       "      <td>0.534455</td>\n",
       "      <td>1843</td>\n",
       "    </tr>\n",
       "    <tr>\n",
       "      <th>3292&gt;290</th>\n",
       "      <td>0.914038</td>\n",
       "      <td>0.926065</td>\n",
       "      <td>0.902320</td>\n",
       "      <td>1638</td>\n",
       "    </tr>\n",
       "    <tr>\n",
       "      <th>3730&gt;1887</th>\n",
       "      <td>0.763460</td>\n",
       "      <td>0.753256</td>\n",
       "      <td>0.773944</td>\n",
       "      <td>1420</td>\n",
       "    </tr>\n",
       "  </tbody>\n",
       "</table>\n",
       "</div>"
      ],
      "text/plain": [
       "              f1-score  precision    recall  support\n",
       "micro avg     0.833913  0.833913   0.833913  197842 \n",
       "macro avg     0.552782  0.750469   0.490477  197842 \n",
       "weighted avg  0.828068  0.836773   0.833913  197842 \n",
       "3292>1370     0.898430  0.865799   0.933618  21090  \n",
       "2199>4592     0.888386  0.846615   0.934492  19326  \n",
       "4015>3754     0.796290  0.722548   0.886794  18780  \n",
       "4015>2337     0.957402  0.969152   0.945934  15444  \n",
       "4015>3636     0.816503  0.753821   0.890556  14400  \n",
       "3292>3581     0.915983  0.920118   0.911885  10282  \n",
       "1608>2320     0.978840  0.980292   0.977393  9466   \n",
       "3292>114      0.878263  0.918132   0.841712  8434   \n",
       "4015>2824     0.803922  0.805419   0.802430  5927   \n",
       "1608>4269     0.952058  0.939957   0.964476  5827   \n",
       "3625>4399     0.726702  0.734900   0.718685  4351   \n",
       "1395>2736     0.715771  0.742941   0.690517  4039   \n",
       "3292>49       0.927457  0.963570   0.893953  3225   \n",
       "4015>282      0.858306  0.863307   0.853362  3212   \n",
       "2296>3597     0.646435  0.531872   0.823899  3180   \n",
       "3292>1041     0.893251  0.924118   0.864379  3001   \n",
       "1608>1206     0.960901  0.948113   0.974039  2889   \n",
       "2199>661      0.724228  0.856041   0.627591  2653   \n",
       "4015>2028     0.810201  0.897222   0.738567  2624   \n",
       "4015>3271     0.654933  0.711268   0.606867  2330   \n",
       "1608>1150     0.826359  0.882290   0.777097  2122   \n",
       "2296>3706     0.655728  0.790587   0.560174  2069   \n",
       "2075>1724     0.646298  0.724638   0.583245  1886   \n",
       "4015>3285     0.665510  0.725268   0.614850  1872   \n",
       "2296>2435     0.560934  0.590174   0.534455  1843   \n",
       "3292>290      0.914038  0.926065   0.902320  1638   \n",
       "3730>1887     0.763460  0.753256   0.773944  1420   "
      ]
     },
     "execution_count": 21,
     "metadata": {},
     "output_type": "execute_result"
    }
   ],
   "source": [
    "from sklearn.metrics import classification_report\n",
    "rep = (classification_report(y_test_true, y_test_pred, output_dict=True))\n",
    "sorted_by_support = sorted(rep.items(), key=lambda x: x[1]['support'], reverse=True)\n",
    "pd.DataFrame((s[1] for s in sorted_by_support), index=(s[0] for s in sorted_by_support)).head(30)"
   ]
  },
  {
   "cell_type": "markdown",
   "metadata": {},
   "source": [
    "We can see code 2933 is performing poorly. Let's investigate"
   ]
  },
  {
   "cell_type": "code",
   "execution_count": null,
   "metadata": {},
   "outputs": [],
   "source": [
    "test_reset = test.reset_index()\n",
    "test_reset[\"pred\"] = y_test_pred"
   ]
  },
  {
   "cell_type": "code",
   "execution_count": null,
   "metadata": {},
   "outputs": [],
   "source": [
    "cols = [\"desc_words_only\", \"first_second\", \"pred\"]\n",
    "CODE = \"4015>2824\"\n",
    "test_reset[((test_reset[\"first_second\"] == CODE)\\\n",
    "           | (test_reset[\"pred\"] == CODE))\\\n",
    "           & (test_reset[\"first_second\"] != test_reset[\"pred\"])][cols]"
   ]
  },
  {
   "cell_type": "code",
   "execution_count": 22,
   "metadata": {},
   "outputs": [
    {
     "data": {
      "text/html": [
       "<div>\n",
       "<style scoped>\n",
       "    .dataframe tbody tr th:only-of-type {\n",
       "        vertical-align: middle;\n",
       "    }\n",
       "\n",
       "    .dataframe tbody tr th {\n",
       "        vertical-align: top;\n",
       "    }\n",
       "\n",
       "    .dataframe thead th {\n",
       "        text-align: right;\n",
       "    }\n",
       "</style>\n",
       "<table border=\"1\" class=\"dataframe\">\n",
       "  <thead>\n",
       "    <tr style=\"text-align: right;\">\n",
       "      <th></th>\n",
       "      <th>desc</th>\n",
       "      <th>code</th>\n",
       "      <th>desc_words_only</th>\n",
       "      <th>codes</th>\n",
       "      <th>first_code</th>\n",
       "      <th>second_code</th>\n",
       "      <th>first_second</th>\n",
       "      <th>desc_no_stopwords</th>\n",
       "    </tr>\n",
       "  </thead>\n",
       "  <tbody>\n",
       "    <tr>\n",
       "      <th>0</th>\n",
       "      <td>Replacement Viewsonic VG710 LCD Monitor 48Watt AC Adapter 12V 4A</td>\n",
       "      <td>3292&gt;114&gt;1231</td>\n",
       "      <td>replacement viewsonic vg710 lcd monitor 48watt ac adapter 12v 4a</td>\n",
       "      <td>[3292, 114, 1231]</td>\n",
       "      <td>3292</td>\n",
       "      <td>114</td>\n",
       "      <td>3292&gt;114</td>\n",
       "      <td>replacement viewsonic vg710 lcd monitor 48watt ac adapter 12v 4a</td>\n",
       "    </tr>\n",
       "    <tr>\n",
       "      <th>1</th>\n",
       "      <td>HP COMPAQ Pavilion DV6-1410EZ 4400mAh 48Wh 6 Cell Li-ion 10.8V Black Compatible Battery</td>\n",
       "      <td>3292&gt;1370&gt;4767&gt;3975&gt;1420</td>\n",
       "      <td>hp compaq pavilion dv6 1410ez 4400mah 48wh 6 cell li ion 10 8v black compatible battery</td>\n",
       "      <td>[3292, 1370, 4767, 3975, 1420]</td>\n",
       "      <td>3292</td>\n",
       "      <td>1370</td>\n",
       "      <td>3292&gt;1370</td>\n",
       "      <td>hp compaq pavilion dv6 1410ez 4400mah 48wh cell li ion 10 8v black compatible battery</td>\n",
       "    </tr>\n",
       "    <tr>\n",
       "      <th>2</th>\n",
       "      <td>Bonjour</td>\n",
       "      <td>2296&gt;3597&gt;2989</td>\n",
       "      <td>bonjour</td>\n",
       "      <td>[2296, 3597, 2989]</td>\n",
       "      <td>2296</td>\n",
       "      <td>3597</td>\n",
       "      <td>2296&gt;3597</td>\n",
       "      <td>bonjour</td>\n",
       "    </tr>\n",
       "    <tr>\n",
       "      <th>3</th>\n",
       "      <td>Two Pack 6V 12Ah  Eaton POWERRITE PRO II 2400 6V 12Ah UPS Replacement Battery - SPS BRAND</td>\n",
       "      <td>3292&gt;114&gt;1231</td>\n",
       "      <td>two pack 6v 12ah eaton powerrite pro ii 2400 6v 12ah ups replacement battery sps brand</td>\n",
       "      <td>[3292, 114, 1231]</td>\n",
       "      <td>3292</td>\n",
       "      <td>114</td>\n",
       "      <td>3292&gt;114</td>\n",
       "      <td>two pack 6v 12ah eaton powerrite pro ii 2400 6v 12ah ups replacement battery sps brand</td>\n",
       "    </tr>\n",
       "    <tr>\n",
       "      <th>4</th>\n",
       "      <td>Generations Small Side Table White</td>\n",
       "      <td>4015&gt;3636&gt;1319&gt;1409&gt;3606</td>\n",
       "      <td>generations small side table white</td>\n",
       "      <td>[4015, 3636, 1319, 1409, 3606]</td>\n",
       "      <td>4015</td>\n",
       "      <td>3636</td>\n",
       "      <td>4015&gt;3636</td>\n",
       "      <td>generations small side table white</td>\n",
       "    </tr>\n",
       "  </tbody>\n",
       "</table>\n",
       "</div>"
      ],
      "text/plain": [
       "                                                                                        desc  \\\n",
       "0  Replacement Viewsonic VG710 LCD Monitor 48Watt AC Adapter 12V 4A                            \n",
       "1  HP COMPAQ Pavilion DV6-1410EZ 4400mAh 48Wh 6 Cell Li-ion 10.8V Black Compatible Battery     \n",
       "2  Bonjour                                                                                     \n",
       "3  Two Pack 6V 12Ah  Eaton POWERRITE PRO II 2400 6V 12Ah UPS Replacement Battery - SPS BRAND   \n",
       "4  Generations Small Side Table White                                                          \n",
       "\n",
       "                       code  \\\n",
       "0  3292>114>1231              \n",
       "1  3292>1370>4767>3975>1420   \n",
       "2  2296>3597>2989             \n",
       "3  3292>114>1231              \n",
       "4  4015>3636>1319>1409>3606   \n",
       "\n",
       "                                                                           desc_words_only  \\\n",
       "0  replacement viewsonic vg710 lcd monitor 48watt ac adapter 12v 4a                          \n",
       "1  hp compaq pavilion dv6 1410ez 4400mah 48wh 6 cell li ion 10 8v black compatible battery   \n",
       "2  bonjour                                                                                   \n",
       "3  two pack 6v 12ah eaton powerrite pro ii 2400 6v 12ah ups replacement battery sps brand    \n",
       "4  generations small side table white                                                        \n",
       "\n",
       "                            codes first_code second_code first_second  \\\n",
       "0  [3292, 114, 1231]               3292       114         3292>114      \n",
       "1  [3292, 1370, 4767, 3975, 1420]  3292       1370        3292>1370     \n",
       "2  [2296, 3597, 2989]              2296       3597        2296>3597     \n",
       "3  [3292, 114, 1231]               3292       114         3292>114      \n",
       "4  [4015, 3636, 1319, 1409, 3606]  4015       3636        4015>3636     \n",
       "\n",
       "                                                                        desc_no_stopwords  \n",
       "0  replacement viewsonic vg710 lcd monitor 48watt ac adapter 12v 4a                        \n",
       "1  hp compaq pavilion dv6 1410ez 4400mah 48wh cell li ion 10 8v black compatible battery   \n",
       "2  bonjour                                                                                 \n",
       "3  two pack 6v 12ah eaton powerrite pro ii 2400 6v 12ah ups replacement battery sps brand  \n",
       "4  generations small side table white                                                      "
      ]
     },
     "execution_count": 22,
     "metadata": {},
     "output_type": "execute_result"
    }
   ],
   "source": [
    "from nltk.corpus import stopwords\n",
    "all_stopwords = set(stopwords.words('english'))\n",
    "all_stopwords.add(\"count\")\n",
    "def remove_stopwords(desc):\n",
    "    return \" \".join(d for d in desc.split() if d not in all_stopwords)\n",
    "def remove_single_char(desc):\n",
    "    return \" \".join(d for d in desc.split() if len(d) > 1)\n",
    "df[\"desc_no_stopwords\"] = df[\"desc_words_only\"].apply(remove_stopwords).apply(remove_single_char)\n",
    "df.head()"
   ]
  },
  {
   "cell_type": "code",
   "execution_count": 23,
   "metadata": {},
   "outputs": [],
   "source": [
    "from nltk.stem import SnowballStemmer\n",
    "stemmer = SnowballStemmer('english')\n",
    "df[\"desc_no_stopwords_stemmed\"] = df[\"desc_no_stopwords\"].apply(stemmer.stem)"
   ]
  },
  {
   "cell_type": "code",
   "execution_count": 24,
   "metadata": {},
   "outputs": [
    {
     "data": {
      "text/html": [
       "<div>\n",
       "<style scoped>\n",
       "    .dataframe tbody tr th:only-of-type {\n",
       "        vertical-align: middle;\n",
       "    }\n",
       "\n",
       "    .dataframe tbody tr th {\n",
       "        vertical-align: top;\n",
       "    }\n",
       "\n",
       "    .dataframe thead th {\n",
       "        text-align: right;\n",
       "    }\n",
       "</style>\n",
       "<table border=\"1\" class=\"dataframe\">\n",
       "  <thead>\n",
       "    <tr style=\"text-align: right;\">\n",
       "      <th></th>\n",
       "      <th>desc</th>\n",
       "      <th>code</th>\n",
       "      <th>desc_words_only</th>\n",
       "      <th>codes</th>\n",
       "      <th>first_code</th>\n",
       "      <th>second_code</th>\n",
       "      <th>first_second</th>\n",
       "      <th>desc_no_stopwords</th>\n",
       "      <th>desc_no_stopwords_stemmed</th>\n",
       "    </tr>\n",
       "  </thead>\n",
       "  <tbody>\n",
       "    <tr>\n",
       "      <th>426722</th>\n",
       "      <td>What Time Is It? Wall Clock - Red</td>\n",
       "      <td>1395&gt;2736&gt;1026&gt;2013</td>\n",
       "      <td>what time is it wall clock red</td>\n",
       "      <td>[1395, 2736, 1026, 2013]</td>\n",
       "      <td>1395</td>\n",
       "      <td>2736</td>\n",
       "      <td>1395&gt;2736</td>\n",
       "      <td>time wall clock red</td>\n",
       "      <td>time wall clock r</td>\n",
       "    </tr>\n",
       "    <tr>\n",
       "      <th>288153</th>\n",
       "      <td>Numi Tea Organic Chocolate Pu-Erh - Case of 6 - 16 Bag Pu-erh Tea</td>\n",
       "      <td>3730&gt;1887&gt;3044&gt;3352&gt;1346</td>\n",
       "      <td>numi tea organic chocolate pu erh case of 6 16 bag pu erh tea</td>\n",
       "      <td>[3730, 1887, 3044, 3352, 1346]</td>\n",
       "      <td>3730</td>\n",
       "      <td>1887</td>\n",
       "      <td>3730&gt;1887</td>\n",
       "      <td>numi tea organic chocolate pu erh case 16 bag pu erh tea</td>\n",
       "      <td>numi tea organic chocolate pu erh case 16 bag pu erh tea</td>\n",
       "    </tr>\n",
       "    <tr>\n",
       "      <th>142899</th>\n",
       "      <td>Mightyskins Protective Vinyl Skin Decal Cover for Samsung Galaxy Note LTE Cell Phone wrap sticker skins Fantasy Angel</td>\n",
       "      <td>3292&gt;3581&gt;3145&gt;2201</td>\n",
       "      <td>mightyskins protective vinyl skin decal cover for samsung galaxy note lte cell phone wrap sticker skins fantasy angel</td>\n",
       "      <td>[3292, 3581, 3145, 2201]</td>\n",
       "      <td>3292</td>\n",
       "      <td>3581</td>\n",
       "      <td>3292&gt;3581</td>\n",
       "      <td>mightyskins protective vinyl skin decal cover samsung galaxy note lte cell phone wrap sticker skins fantasy angel</td>\n",
       "      <td>mightyskins protective vinyl skin decal cover samsung galaxy note lte cell phone wrap sticker skins fantasy angel</td>\n",
       "    </tr>\n",
       "    <tr>\n",
       "      <th>206943</th>\n",
       "      <td>Little Tikes Fish 'n Splash Water Table</td>\n",
       "      <td>1395&gt;2736&gt;3899&gt;2131&gt;407</td>\n",
       "      <td>little tikes fish n splash water table</td>\n",
       "      <td>[1395, 2736, 3899, 2131, 407]</td>\n",
       "      <td>1395</td>\n",
       "      <td>2736</td>\n",
       "      <td>1395&gt;2736</td>\n",
       "      <td>little tikes fish splash water table</td>\n",
       "      <td>little tikes fish splash water t</td>\n",
       "    </tr>\n",
       "    <tr>\n",
       "      <th>623037</th>\n",
       "      <td>Durable XXXL 180T Waterproof Dust Motorcycle Cover Outdoor UV Protector Black Blue</td>\n",
       "      <td>2199&gt;1974&gt;2821</td>\n",
       "      <td>durable xxxl 180t waterproof dust motorcycle cover outdoor uv protector black blue</td>\n",
       "      <td>[2199, 1974, 2821]</td>\n",
       "      <td>2199</td>\n",
       "      <td>1974</td>\n",
       "      <td>2199&gt;1974</td>\n",
       "      <td>durable xxxl 180t waterproof dust motorcycle cover outdoor uv protector black blue</td>\n",
       "      <td>durable xxxl 180t waterproof dust motorcycle cover outdoor uv protector black blu</td>\n",
       "    </tr>\n",
       "  </tbody>\n",
       "</table>\n",
       "</div>"
      ],
      "text/plain": [
       "                                                                                                                         desc  \\\n",
       "426722  What Time Is It? Wall Clock - Red                                                                                       \n",
       "288153  Numi Tea Organic Chocolate Pu-Erh - Case of 6 - 16 Bag Pu-erh Tea                                                       \n",
       "142899  Mightyskins Protective Vinyl Skin Decal Cover for Samsung Galaxy Note LTE Cell Phone wrap sticker skins Fantasy Angel   \n",
       "206943  Little Tikes Fish 'n Splash Water Table                                                                                 \n",
       "623037  Durable XXXL 180T Waterproof Dust Motorcycle Cover Outdoor UV Protector Black Blue                                      \n",
       "\n",
       "                            code  \\\n",
       "426722  1395>2736>1026>2013        \n",
       "288153  3730>1887>3044>3352>1346   \n",
       "142899  3292>3581>3145>2201        \n",
       "206943  1395>2736>3899>2131>407    \n",
       "623037  2199>1974>2821             \n",
       "\n",
       "                                                                                                              desc_words_only  \\\n",
       "426722  what time is it wall clock red                                                                                          \n",
       "288153  numi tea organic chocolate pu erh case of 6 16 bag pu erh tea                                                           \n",
       "142899  mightyskins protective vinyl skin decal cover for samsung galaxy note lte cell phone wrap sticker skins fantasy angel   \n",
       "206943  little tikes fish n splash water table                                                                                  \n",
       "623037  durable xxxl 180t waterproof dust motorcycle cover outdoor uv protector black blue                                      \n",
       "\n",
       "                                 codes first_code second_code first_second  \\\n",
       "426722  [1395, 2736, 1026, 2013]        1395       2736        1395>2736     \n",
       "288153  [3730, 1887, 3044, 3352, 1346]  3730       1887        3730>1887     \n",
       "142899  [3292, 3581, 3145, 2201]        3292       3581        3292>3581     \n",
       "206943  [1395, 2736, 3899, 2131, 407]   1395       2736        1395>2736     \n",
       "623037  [2199, 1974, 2821]              2199       1974        2199>1974     \n",
       "\n",
       "                                                                                                        desc_no_stopwords  \\\n",
       "426722  time wall clock red                                                                                                 \n",
       "288153  numi tea organic chocolate pu erh case 16 bag pu erh tea                                                            \n",
       "142899  mightyskins protective vinyl skin decal cover samsung galaxy note lte cell phone wrap sticker skins fantasy angel   \n",
       "206943  little tikes fish splash water table                                                                                \n",
       "623037  durable xxxl 180t waterproof dust motorcycle cover outdoor uv protector black blue                                  \n",
       "\n",
       "                                                                                                desc_no_stopwords_stemmed  \n",
       "426722  time wall clock r                                                                                                  \n",
       "288153  numi tea organic chocolate pu erh case 16 bag pu erh tea                                                           \n",
       "142899  mightyskins protective vinyl skin decal cover samsung galaxy note lte cell phone wrap sticker skins fantasy angel  \n",
       "206943  little tikes fish splash water t                                                                                   \n",
       "623037  durable xxxl 180t waterproof dust motorcycle cover outdoor uv protector black blu                                  "
      ]
     },
     "execution_count": 24,
     "metadata": {},
     "output_type": "execute_result"
    }
   ],
   "source": [
    "df.sample(5)"
   ]
  },
  {
   "cell_type": "code",
   "execution_count": 29,
   "metadata": {},
   "outputs": [
    {
     "name": "stdout",
     "output_type": "stream",
     "text": [
      "after deduping, we have 784060 records\n",
      "after removing <2 record categories, there are 775892 records\n",
      "training set has 581919 records -- 75.0 percent -- and test set has 193973 records\n"
     ]
    },
    {
     "name": "stderr",
     "output_type": "stream",
     "text": [
      "/home/christian/.miniconda2/envs/new_gpd_3/lib/python3.6/site-packages/sklearn/linear_model/stochastic_gradient.py:166: FutureWarning: max_iter and tol parameters have been added in SGDClassifier in 0.19. If both are left unset, they default to max_iter=5 and tol=None. If tol is not None, max_iter defaults to max_iter=1000. From 0.21, default max_iter will be 1000, and default tol will be 1e-3.\n",
      "  FutureWarning)\n"
     ]
    },
    {
     "name": "stdout",
     "output_type": "stream",
     "text": [
      "in-sample accuracy:  0.9171362337369977\n",
      "test set accuracy:  0.8529022080392632\n"
     ]
    }
   ],
   "source": [
    "train, test = make_test_train(df, \"desc_no_stopwords_stemmed\")\n",
    "clf, vec = make_model(train, CountVectorizer(ngram_range=(1, 2)), \"desc_no_stopwords_stemmed\")\n",
    "y_test_true, y_pred = evaluate_model(clf, vec, train, test, \"desc_no_stopwords_stemmed\")"
   ]
  },
  {
   "cell_type": "code",
   "execution_count": 30,
   "metadata": {},
   "outputs": [
    {
     "name": "stdout",
     "output_type": "stream",
     "text": [
      "after deduping, we have 784060 records\n",
      "after removing <2 record categories, there are 775892 records\n",
      "training set has 581919 records -- 75.0 percent -- and test set has 193973 records\n"
     ]
    },
    {
     "name": "stderr",
     "output_type": "stream",
     "text": [
      "/home/christian/.miniconda2/envs/new_gpd_3/lib/python3.6/site-packages/sklearn/linear_model/stochastic_gradient.py:166: FutureWarning: max_iter and tol parameters have been added in SGDClassifier in 0.19. If both are left unset, they default to max_iter=5 and tol=None. If tol is not None, max_iter defaults to max_iter=1000. From 0.21, default max_iter will be 1000, and default tol will be 1e-3.\n",
      "  FutureWarning)\n"
     ]
    },
    {
     "name": "stdout",
     "output_type": "stream",
     "text": [
      "in-sample accuracy:  0.7502229691761224\n",
      "test set accuracy:  0.7488980425110712\n"
     ]
    }
   ],
   "source": [
    "train, test = make_test_train(df, \"desc_no_stopwords_stemmed\")\n",
    "clf, vec = make_model(train, TfidfVectorizer(ngram_range=(1, 2)), \"desc_no_stopwords_stemmed\")\n",
    "y_test_true, y_pred = evaluate_model(clf, vec, train, test, \"desc_no_stopwords_stemmed\")"
   ]
  },
  {
   "cell_type": "code",
   "execution_count": 26,
   "metadata": {},
   "outputs": [
    {
     "name": "stdout",
     "output_type": "stream",
     "text": [
      "after deduping, we have 799539 records\n",
      "after removing <2 record categories, there are 791368 records\n",
      "training set has 593526 records -- 75.0 percent -- and test set has 197842 records\n"
     ]
    },
    {
     "name": "stderr",
     "output_type": "stream",
     "text": [
      "/apps/anaconda/lib/python3.6/site-packages/sklearn/linear_model/stochastic_gradient.py:128: FutureWarning: max_iter and tol parameters have been added in <class 'sklearn.linear_model.stochastic_gradient.SGDClassifier'> in 0.19. If both are left unset, they default to max_iter=5 and tol=None. If tol is not None, max_iter defaults to max_iter=1000. From 0.21, default max_iter will be 1000, and default tol will be 1e-3.\n",
      "  \"and default tol will be 1e-3.\" % type(self), FutureWarning)\n"
     ]
    },
    {
     "name": "stdout",
     "output_type": "stream",
     "text": [
      "in-sample accuracy:  0.946843103756\n",
      "test set accuracy:  0.862006045228\n"
     ]
    }
   ],
   "source": [
    "train, test = make_test_train(df, \"desc_words_only\")\n",
    "clf, vec = make_model(train, CountVectorizer(ngram_range=(1, 3)), \"desc_words_only\")\n",
    "y_test_true, y_pred = evaluate_model(clf, vec, train, test, \"desc_words_only\")"
   ]
  },
  {
   "cell_type": "markdown",
   "metadata": {},
   "source": [
    "What's going on here? We can see, for example, that code 1605 \"octopus prepared or preserved nesoi\" was mis-predicted into this class. It may well be because of the \"prepared or preserved nesoi\" bit. The model may be incorrectly attributing this to an important part of the 2008 code. \n",
    "\n",
    "We can deal with this using a _feature scaling_ technique known as TF-IDF (term frequency - inverse document frequency). In essence, we're helping the model determine what features should be weighted and which ones should be ignored.\n",
    "\n",
    "The idea with TF-IDF is that instead of weighting each word with a 1 or 0, depending on whether or not it's in that particular record, instead we'll weight with more contextual information. There are many TF-IDF schemes, but they essentially all boil down to this:\n",
    "\n",
    "$$ \n",
    "\\frac{\\textrm{# times word occurs in record}}{\\textrm{# unique records the word occurs in}}\n",
    "$$\n",
    "\n",
    "In other words, the less frequently a word occurs across the entire set of descriptions, the more important it presumably is. Thus, since we frequently see the terms, \"nesoi\", \"prepared\", and \"preserved\",  for example, we'll weight those less\n",
    "\n",
    "Let's look at the same example with the `CountVectorizer` as above, but using the `TfidfVectorizer` instead."
   ]
  },
  {
   "cell_type": "code",
   "execution_count": null,
   "metadata": {},
   "outputs": [],
   "source": [
    "from sklearn.feature_extraction.text import TfidfVectorizer\n",
    "\n",
    "vec = TfidfVectorizer()\n",
    "\n",
    "# this will actually convert our first few descriptions into vectors\n",
    "tfd = vec.fit_transform(first_few_only['desc_words_only'])\n",
    "# by default, it's a sparse matrix\n",
    "tfd.toarray()\n",
    "# don't worry about this, it's for pedagogical purposes\n",
    "columns = [x[0] for x in sorted(list(vec.vocabulary_.items()), key=lambda x: x[1])]\n",
    "pd.DataFrame(tfd.toarray(), columns=columns, index=first_few_only['desc_words_only'])"
   ]
  },
  {
   "cell_type": "markdown",
   "metadata": {},
   "source": [
    "And, without further ado, let's try a model."
   ]
  },
  {
   "cell_type": "code",
   "execution_count": null,
   "metadata": {},
   "outputs": [],
   "source": [
    "vec = TfidfVectorizer()\n",
    "X = vec.fit_transform(train[\"desc_words_only\"])\n",
    "clf = SGDClassifier(n_jobs=-1, alpha=.00001)\n",
    "clf.fit(X, train[\"first_second\"])"
   ]
  },
  {
   "cell_type": "code",
   "execution_count": null,
   "metadata": {},
   "outputs": [],
   "source": [
    "X_test = cv.transform(test[\"desc_words_only\"])\n",
    "y_test_pred = clf.predict(X_test)\n",
    "y_test_true = test[\"first_second\"]\n",
    "print(\"in-sample accuracy: \", (clf.predict(X) == y).mean())\n",
    "print(\"test set accuracy: \", (y_test_pred == y_test_true).mean())"
   ]
  },
  {
   "cell_type": "code",
   "execution_count": null,
   "metadata": {},
   "outputs": [],
   "source": [
    "deduped = df.drop_duplicates(subset=[\"desc_no_stopwords\"])\n",
    "print(\"after deduping, we have\", len(deduped), \"records\")\n",
    "\n",
    "#now, let's remove any HS4 category with <2 records\n",
    "vcs = deduped[\"first_second\"].value_counts()\n",
    "to_include = vcs[vcs > 1].index\n",
    "final_dataset = deduped[deduped['first_second'].isin(to_include)]\n",
    "print(\"after removing <2 record categories, there are\", len(final_dataset), \"records\")\n",
    "\n",
    "# the stratify is important -- \n",
    "# it's making sure that we have an instance of each category in both the train and test sets\n",
    "\n",
    "train, test = train_test_split(final_dataset, stratify=final_dataset[\"first_second\"])\n",
    "print(\"training set has\", len(train), \"records --\", 100 * len(train) / len(final_dataset), \n",
    "      \"percent -- and test set has\", len(test), \"records\")"
   ]
  },
  {
   "cell_type": "code",
   "execution_count": null,
   "metadata": {},
   "outputs": [],
   "source": [
    "from sklearn.linear_model import SGDClassifier\n",
    "\n",
    "cv = CountVectorizer()\n",
    "X = cv.fit_transform(train[\"desc_no_stopwords\"])\n",
    "y = train[\"first_second\"]\n",
    "\n",
    "clf = SGDClassifier(alpha=.00001, n_jobs=-1)\n",
    "clf.fit(X, y)\n",
    "\n",
    "X_test = cv.transform(test[\"desc_no_stopwords\"])\n",
    "y_test_pred = clf.predict(X_test)\n",
    "y_test_true = test[\"first_second\"]\n",
    "print(\"initial accuracy: \", (y_test_pred == y_test_true).mean())"
   ]
  },
  {
   "cell_type": "code",
   "execution_count": null,
   "metadata": {},
   "outputs": [],
   "source": [
    "deduped = df.drop_duplicates(subset=[\"desc_no_stopwords_stemmed\"])\n",
    "print(\"after deduping, we have\", len(deduped), \"records\")\n",
    "\n",
    "#now, let's remove any HS4 category with <2 records\n",
    "vcs = deduped[\"first_second\"].value_counts()\n",
    "to_include = vcs[vcs > 1].index\n",
    "final_dataset = deduped[deduped.first_second.isin(to_include)]\n",
    "print(\"after removing <2 record categories, there are\", len(final_dataset), \"records\")\n",
    "\n",
    "# the stratify is important -- \n",
    "# it's making sure that we have an instance of each category in both the train and test sets\n",
    "\n",
    "train, test = train_test_split(final_dataset, stratify=final_dataset[\"first_second\"])\n",
    "print(\"training set has\", len(train), \"records --\", 100 * len(train) / len(final_dataset), \n",
    "      \"percent -- and test set has\", len(test), \"records\")"
   ]
  },
  {
   "cell_type": "code",
   "execution_count": null,
   "metadata": {},
   "outputs": [],
   "source": [
    "from sklearn.linear_model import SGDClassifier\n",
    "\n",
    "cv = CountVectorizer()\n",
    "X = cv.fit_transform(train[\"desc_no_stopwords_stemmed\"])\n",
    "y = train[\"first_second\"]\n",
    "\n",
    "clf = SGDClassifier(alpha=.00001, n_jobs=-1)\n",
    "clf.fit(X, y)\n",
    "\n",
    "X_test = cv.transform(test[\"desc_no_stopwords_stemmed\"])\n",
    "y_test_pred = clf.predict(X_test)\n",
    "y_test_true = test[\"first_second\"]\n",
    "print(\"initial accuracy: \", (y_test_pred == y_test_true).mean())"
   ]
  },
  {
   "cell_type": "code",
   "execution_count": null,
   "metadata": {},
   "outputs": [],
   "source": [
    "from sklearn.linear_model import SGDClassifier\n",
    "\n",
    "cv = TfidfVectorizer()\n",
    "X = cv.fit_transform(train[\"long_no_stopwords_stemmed\"])\n",
    "y = train[\"HS2\"]\n",
    "\n",
    "clf = SGDClassifier()\n",
    "clf.fit(X, y)\n",
    "\n",
    "X_test = cv.transform(test[\"long_no_stopwords_stemmed\"])\n",
    "y_test_pred = clf.predict(X_test)\n",
    "y_test_true = test[\"HS2\"]\n",
    "print(\"initial accuracy: \", (y_test_pred == y_test_true).mean())"
   ]
  },
  {
   "cell_type": "code",
   "execution_count": null,
   "metadata": {},
   "outputs": [],
   "source": [
    "from sklearn.ensemble import RandomForestClassifier\n",
    "rf = RandomForestClassifier(n_estimators=100, n_jobs=-1)\n",
    "rf.fit(X, y)"
   ]
  },
  {
   "cell_type": "code",
   "execution_count": null,
   "metadata": {},
   "outputs": [],
   "source": [
    "y_test_pred = rf.predict(X_test)\n",
    "y_test_true = test[\"HS2\"]\n",
    "print(\"initial accuracy: \", (y_test_pred == y_test_true).mean())"
   ]
  },
  {
   "cell_type": "code",
   "execution_count": null,
   "metadata": {},
   "outputs": [],
   "source": []
  }
 ],
 "metadata": {
  "kernelspec": {
   "display_name": "Python 3",
   "language": "python",
   "name": "python3"
  },
  "language_info": {
   "codemirror_mode": {
    "name": "ipython",
    "version": 3
   },
   "file_extension": ".py",
   "mimetype": "text/x-python",
   "name": "python",
   "nbconvert_exporter": "python",
   "pygments_lexer": "ipython3",
   "version": "3.6.8"
  }
 },
 "nbformat": 4,
 "nbformat_minor": 2
}
